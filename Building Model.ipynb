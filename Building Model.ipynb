{
 "cells": [
  {
   "cell_type": "code",
   "execution_count": 8,
   "metadata": {},
   "outputs": [],
   "source": [
    "from sklearn.model_selection import train_test_split\n",
    "train_x,test_x,train_y,test_y=train_test_split(X,Y,test_size=0.2)"
   ]
  },
  {
   "cell_type": "code",
   "execution_count": 9,
   "metadata": {
    "scrolled": true
   },
   "outputs": [
    {
     "name": "stdout",
     "output_type": "stream",
     "text": [
      "Epoch 1/10\n",
      "31/31 [==============================] - 64s 2s/step - loss: 0.7551 - accuracy: 0.5246 - val_loss: 0.6818 - val_accuracy: 0.6598\n",
      "Epoch 2/10\n",
      "31/31 [==============================] - 63s 2s/step - loss: 0.6383 - accuracy: 0.6691 - val_loss: 0.6232 - val_accuracy: 0.6721\n",
      "Epoch 3/10\n",
      "31/31 [==============================] - 63s 2s/step - loss: 0.5474 - accuracy: 0.7295 - val_loss: 0.5170 - val_accuracy: 0.7377\n",
      "Epoch 4/10\n",
      "31/31 [==============================] - 63s 2s/step - loss: 0.4407 - accuracy: 0.7920 - val_loss: 0.5627 - val_accuracy: 0.7541\n",
      "Epoch 5/10\n",
      "31/31 [==============================] - 64s 2s/step - loss: 0.3623 - accuracy: 0.8412 - val_loss: 0.4390 - val_accuracy: 0.8033\n",
      "Epoch 6/10\n",
      "31/31 [==============================] - 63s 2s/step - loss: 0.3243 - accuracy: 0.8566 - val_loss: 0.4849 - val_accuracy: 0.7910\n",
      "Epoch 7/10\n",
      "31/31 [==============================] - 64s 2s/step - loss: 0.2816 - accuracy: 0.8852 - val_loss: 0.4853 - val_accuracy: 0.8115\n",
      "Epoch 8/10\n",
      "31/31 [==============================] - 65s 2s/step - loss: 0.2516 - accuracy: 0.8955 - val_loss: 0.4340 - val_accuracy: 0.8197\n",
      "Epoch 9/10\n",
      "31/31 [==============================] - 65s 2s/step - loss: 0.2149 - accuracy: 0.9160 - val_loss: 0.4966 - val_accuracy: 0.7787\n",
      "Epoch 10/10\n",
      "31/31 [==============================] - 64s 2s/step - loss: 0.2125 - accuracy: 0.9150 - val_loss: 0.4909 - val_accuracy: 0.8279\n"
     ]
    },
    {
     "data": {
      "text/plain": [
       "<tensorflow.python.keras.callbacks.History at 0x28953fdfe10>"
      ]
     },
     "execution_count": 9,
     "metadata": {},
     "output_type": "execute_result"
    }
   ],
   "source": [
    "model=Sequential()\n",
    "\n",
    "model.add(Conv2D(256,(3,3),padding=\"same\",input_shape=X.shape[1:]))\n",
    "model.add(Activation(\"relu\"))\n",
    "model.add(MaxPooling2D(pool_size=(2,2)))\n",
    "\n",
    "\n",
    "model.add(Conv2D(128,(3,3)))\n",
    "model.add(Activation(\"relu\"))\n",
    "model.add(MaxPooling2D(pool_size=(2,2)))\n",
    "               \n",
    "\n",
    "          \n",
    "model.add(Flatten())  \n",
    "model.add(Dropout(0.3))\n",
    "model.add(Dense(50,activation=\"relu\"))\n",
    "          \n",
    "\n",
    "model.add(Dense(2))\n",
    "model.add(Activation(\"softmax\"))\n",
    "          \n",
    "model.compile(loss=\"categorical_crossentropy\",optimizer=\"adam\",metrics=['accuracy'])\n",
    "          \n",
    "\n",
    "          \n",
    "model.fit(train_x,train_y,batch_size=32,epochs=10,validation_split=0.2)\n",
    "        \n",
    "          "
   ]
  },
  {
   "cell_type": "code",
   "execution_count": 10,
   "metadata": {},
   "outputs": [
    {
     "name": "stdout",
     "output_type": "stream",
     "text": [
      "10/10 [==============================] - 5s 497ms/step - loss: 0.3834 - accuracy: 0.8525\n",
      "[0.3834167420864105, 0.8524590134620667]\n"
     ]
    }
   ],
   "source": [
    "print(model.evaluate(test_x,test_y))"
   ]
  },
  {
   "cell_type": "markdown",
   "metadata": {},
   "source": [
    "\n"
   ]
  },
  {
   "cell_type": "code",
   "execution_count": 11,
   "metadata": {},
   "outputs": [
    {
     "name": "stdout",
     "output_type": "stream",
     "text": [
      "WARNING:tensorflow:From C:\\Users\\AMBIKA\\Anaconda3\\lib\\site-packages\\tensorflow\\python\\ops\\resource_variable_ops.py:1817: calling BaseResourceVariable.__init__ (from tensorflow.python.ops.resource_variable_ops) with constraint is deprecated and will be removed in a future version.\n",
      "Instructions for updating:\n",
      "If using Keras pass *_constraint arguments to layers.\n",
      "INFO:tensorflow:Assets written to: FaceMask Detection live 2\\assets\n"
     ]
    }
   ],
   "source": [
    " model.save(\"FaceMask Detection live 2\")"
   ]
  }
 ],
 "metadata": {
  "kernelspec": {
   "display_name": "Python 3",
   "language": "python",
   "name": "python3"
  },
  "language_info": {
   "codemirror_mode": {
    "name": "ipython",
    "version": 3
   },
   "file_extension": ".py",
   "mimetype": "text/x-python",
   "name": "python",
   "nbconvert_exporter": "python",
   "pygments_lexer": "ipython3",
   "version": "3.7.6"
  }
 },
 "nbformat": 4,
 "nbformat_minor": 2
}
